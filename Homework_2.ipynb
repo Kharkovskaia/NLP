{
  "cells": [
    {
      "cell_type": "markdown",
      "id": "69f8cd2a",
      "metadata": {
        "id": "69f8cd2a"
      },
      "source": [
        "# Домашняя работа \"Классификация в АОТ\""
      ]
    },
    {
      "cell_type": "markdown",
      "id": "f8106701",
      "metadata": {
        "id": "f8106701"
      },
      "source": [
        "## Классификация текстов\n",
        "### Fakenews\n",
        "1. Мы будем работать с данными fakenews отсюда: https://raw.githubusercontent.com/diptamath/covid_fake_news/main/data/Constraint_Train.csv   \n",
        "2. Проведите препроцессинг текста. Разбейте данные на train и test для задачи классификации.\n",
        "3. Векторизуйте.\n",
        "4. Обучите на полученных векторах алгоритм классификации.   \n",
        "Мы уже видели как эта задача выполняется с помощью Word2vec. Давайте вспомним.\n",
        "\n",
        "3 раза разными способами получить на задаче классификации значение f1 выше 0.91 для методов на sklearn и выше 0.52 для методов на pytorch."
      ]
    },
    {
      "cell_type": "code",
      "execution_count": 1,
      "id": "93d0f61f",
      "metadata": {
        "colab": {
          "base_uri": "https://localhost:8080/"
        },
        "id": "93d0f61f",
        "outputId": "b1f6b046-4818-4913-a6b1-51b37f361755"
      },
      "outputs": [
        {
          "output_type": "stream",
          "name": "stderr",
          "text": [
            "[nltk_data] Downloading package punkt to /root/nltk_data...\n",
            "[nltk_data]   Package punkt is already up-to-date!\n"
          ]
        }
      ],
      "source": [
        "# Загружаем библиотеки\n",
        "import pandas as pd\n",
        "from nltk.tokenize import word_tokenize\n",
        "from tqdm import tqdm\n",
        "import nltk\n",
        "nltk.download('punkt')\n",
        "from gensim.models.word2vec import Word2Vec\n",
        "import numpy as np\n",
        "from sklearn.linear_model import LogisticRegression\n",
        "from sklearn.model_selection import train_test_split\n",
        "from sklearn.metrics import f1_score\n",
        "from sklearn import svm\n",
        "from sklearn.neighbors import KNeighborsClassifier"
      ]
    },
    {
      "cell_type": "code",
      "execution_count": 2,
      "id": "b9deeedd",
      "metadata": {
        "colab": {
          "base_uri": "https://localhost:8080/",
          "height": 206
        },
        "id": "b9deeedd",
        "outputId": "54c64116-0309-46d1-a001-972e54f1e974"
      },
      "outputs": [
        {
          "output_type": "execute_result",
          "data": {
            "text/plain": [
              "   id                                              tweet label\n",
              "0   1  The CDC currently reports 99031 deaths. In gen...  real\n",
              "1   2  States reported 1121 deaths a small rise from ...  real\n",
              "2   3  Politically Correct Woman (Almost) Uses Pandem...  fake\n",
              "3   4  #IndiaFightsCorona: We have 1524 #COVID testin...  real\n",
              "4   5  Populous states can generate large case counts...  real"
            ],
            "text/html": [
              "\n",
              "  <div id=\"df-9560067e-b98b-46f6-974d-8b658bcae5d1\">\n",
              "    <div class=\"colab-df-container\">\n",
              "      <div>\n",
              "<style scoped>\n",
              "    .dataframe tbody tr th:only-of-type {\n",
              "        vertical-align: middle;\n",
              "    }\n",
              "\n",
              "    .dataframe tbody tr th {\n",
              "        vertical-align: top;\n",
              "    }\n",
              "\n",
              "    .dataframe thead th {\n",
              "        text-align: right;\n",
              "    }\n",
              "</style>\n",
              "<table border=\"1\" class=\"dataframe\">\n",
              "  <thead>\n",
              "    <tr style=\"text-align: right;\">\n",
              "      <th></th>\n",
              "      <th>id</th>\n",
              "      <th>tweet</th>\n",
              "      <th>label</th>\n",
              "    </tr>\n",
              "  </thead>\n",
              "  <tbody>\n",
              "    <tr>\n",
              "      <th>0</th>\n",
              "      <td>1</td>\n",
              "      <td>The CDC currently reports 99031 deaths. In gen...</td>\n",
              "      <td>real</td>\n",
              "    </tr>\n",
              "    <tr>\n",
              "      <th>1</th>\n",
              "      <td>2</td>\n",
              "      <td>States reported 1121 deaths a small rise from ...</td>\n",
              "      <td>real</td>\n",
              "    </tr>\n",
              "    <tr>\n",
              "      <th>2</th>\n",
              "      <td>3</td>\n",
              "      <td>Politically Correct Woman (Almost) Uses Pandem...</td>\n",
              "      <td>fake</td>\n",
              "    </tr>\n",
              "    <tr>\n",
              "      <th>3</th>\n",
              "      <td>4</td>\n",
              "      <td>#IndiaFightsCorona: We have 1524 #COVID testin...</td>\n",
              "      <td>real</td>\n",
              "    </tr>\n",
              "    <tr>\n",
              "      <th>4</th>\n",
              "      <td>5</td>\n",
              "      <td>Populous states can generate large case counts...</td>\n",
              "      <td>real</td>\n",
              "    </tr>\n",
              "  </tbody>\n",
              "</table>\n",
              "</div>\n",
              "      <button class=\"colab-df-convert\" onclick=\"convertToInteractive('df-9560067e-b98b-46f6-974d-8b658bcae5d1')\"\n",
              "              title=\"Convert this dataframe to an interactive table.\"\n",
              "              style=\"display:none;\">\n",
              "        \n",
              "  <svg xmlns=\"http://www.w3.org/2000/svg\" height=\"24px\"viewBox=\"0 0 24 24\"\n",
              "       width=\"24px\">\n",
              "    <path d=\"M0 0h24v24H0V0z\" fill=\"none\"/>\n",
              "    <path d=\"M18.56 5.44l.94 2.06.94-2.06 2.06-.94-2.06-.94-.94-2.06-.94 2.06-2.06.94zm-11 1L8.5 8.5l.94-2.06 2.06-.94-2.06-.94L8.5 2.5l-.94 2.06-2.06.94zm10 10l.94 2.06.94-2.06 2.06-.94-2.06-.94-.94-2.06-.94 2.06-2.06.94z\"/><path d=\"M17.41 7.96l-1.37-1.37c-.4-.4-.92-.59-1.43-.59-.52 0-1.04.2-1.43.59L10.3 9.45l-7.72 7.72c-.78.78-.78 2.05 0 2.83L4 21.41c.39.39.9.59 1.41.59.51 0 1.02-.2 1.41-.59l7.78-7.78 2.81-2.81c.8-.78.8-2.07 0-2.86zM5.41 20L4 18.59l7.72-7.72 1.47 1.35L5.41 20z\"/>\n",
              "  </svg>\n",
              "      </button>\n",
              "      \n",
              "  <style>\n",
              "    .colab-df-container {\n",
              "      display:flex;\n",
              "      flex-wrap:wrap;\n",
              "      gap: 12px;\n",
              "    }\n",
              "\n",
              "    .colab-df-convert {\n",
              "      background-color: #E8F0FE;\n",
              "      border: none;\n",
              "      border-radius: 50%;\n",
              "      cursor: pointer;\n",
              "      display: none;\n",
              "      fill: #1967D2;\n",
              "      height: 32px;\n",
              "      padding: 0 0 0 0;\n",
              "      width: 32px;\n",
              "    }\n",
              "\n",
              "    .colab-df-convert:hover {\n",
              "      background-color: #E2EBFA;\n",
              "      box-shadow: 0px 1px 2px rgba(60, 64, 67, 0.3), 0px 1px 3px 1px rgba(60, 64, 67, 0.15);\n",
              "      fill: #174EA6;\n",
              "    }\n",
              "\n",
              "    [theme=dark] .colab-df-convert {\n",
              "      background-color: #3B4455;\n",
              "      fill: #D2E3FC;\n",
              "    }\n",
              "\n",
              "    [theme=dark] .colab-df-convert:hover {\n",
              "      background-color: #434B5C;\n",
              "      box-shadow: 0px 1px 3px 1px rgba(0, 0, 0, 0.15);\n",
              "      filter: drop-shadow(0px 1px 2px rgba(0, 0, 0, 0.3));\n",
              "      fill: #FFFFFF;\n",
              "    }\n",
              "  </style>\n",
              "\n",
              "      <script>\n",
              "        const buttonEl =\n",
              "          document.querySelector('#df-9560067e-b98b-46f6-974d-8b658bcae5d1 button.colab-df-convert');\n",
              "        buttonEl.style.display =\n",
              "          google.colab.kernel.accessAllowed ? 'block' : 'none';\n",
              "\n",
              "        async function convertToInteractive(key) {\n",
              "          const element = document.querySelector('#df-9560067e-b98b-46f6-974d-8b658bcae5d1');\n",
              "          const dataTable =\n",
              "            await google.colab.kernel.invokeFunction('convertToInteractive',\n",
              "                                                     [key], {});\n",
              "          if (!dataTable) return;\n",
              "\n",
              "          const docLinkHtml = 'Like what you see? Visit the ' +\n",
              "            '<a target=\"_blank\" href=https://colab.research.google.com/notebooks/data_table.ipynb>data table notebook</a>'\n",
              "            + ' to learn more about interactive tables.';\n",
              "          element.innerHTML = '';\n",
              "          dataTable['output_type'] = 'display_data';\n",
              "          await google.colab.output.renderOutput(dataTable, element);\n",
              "          const docLink = document.createElement('div');\n",
              "          docLink.innerHTML = docLinkHtml;\n",
              "          element.appendChild(docLink);\n",
              "        }\n",
              "      </script>\n",
              "    </div>\n",
              "  </div>\n",
              "  "
            ]
          },
          "metadata": {},
          "execution_count": 2
        }
      ],
      "source": [
        "# Загружаем данные\n",
        "df = pd.read_csv('Constraint_Train.csv')\n",
        "df.head()"
      ]
    },
    {
      "cell_type": "code",
      "execution_count": 3,
      "id": "33f8d467",
      "metadata": {
        "colab": {
          "base_uri": "https://localhost:8080/"
        },
        "id": "33f8d467",
        "outputId": "9a662bfa-ff54-431e-a1d4-89e9626aee65"
      },
      "outputs": [
        {
          "output_type": "stream",
          "name": "stderr",
          "text": [
            "100%|██████████| 6420/6420 [00:03<00:00, 2002.30it/s]\n"
          ]
        }
      ],
      "source": [
        "# Получаем предложения/твиты\n",
        "sentences = [word_tokenize(text.lower()) for text in tqdm(df.tweet)]"
      ]
    },
    {
      "cell_type": "code",
      "execution_count": 4,
      "id": "ba1069af",
      "metadata": {
        "colab": {
          "base_uri": "https://localhost:8080/"
        },
        "id": "ba1069af",
        "outputId": "d1210933-e618-431a-b4b1-c28f73c3870f"
      },
      "outputs": [
        {
          "output_type": "stream",
          "name": "stdout",
          "text": [
            "CPU times: user 12.5 s, sys: 83.6 ms, total: 12.5 s\n",
            "Wall time: 11.2 s\n"
          ]
        }
      ],
      "source": [
        "# Обучаем модель Word2Vec\n",
        "%time model_tweets = Word2Vec(sentences, workers=4, size=300, min_count=3, window=5, iter=15)"
      ]
    },
    {
      "cell_type": "code",
      "source": [
        "# Смотрим какие слова оказались близки к слову france\n",
        "model_tweets.wv.most_similar('france')"
      ],
      "metadata": {
        "colab": {
          "base_uri": "https://localhost:8080/"
        },
        "id": "i1_XAc7z_fAY",
        "outputId": "6ecf966d-f0b5-469c-fbc3-8e4ca658155b"
      },
      "id": "i1_XAc7z_fAY",
      "execution_count": 5,
      "outputs": [
        {
          "output_type": "execute_result",
          "data": {
            "text/plain": [
              "[('2015', 0.9422296285629272),\n",
              " ('front', 0.9320982098579407),\n",
              " ('bags', 0.929604172706604),\n",
              " ('jamaat', 0.9159358143806458),\n",
              " ('victims', 0.9144309163093567),\n",
              " ('invented', 0.9141560792922974),\n",
              " ('parliament', 0.9136128425598145),\n",
              " ('2017', 0.9129412770271301),\n",
              " ('protesting', 0.9119986891746521),\n",
              " ('saudi', 0.9107229113578796)]"
            ]
          },
          "metadata": {},
          "execution_count": 5
        }
      ]
    },
    {
      "cell_type": "code",
      "source": [
        "# Нормируем вектора\n",
        "model_tweets.init_sims()"
      ],
      "metadata": {
        "id": "yNtOo1WX_ixd"
      },
      "id": "yNtOo1WX_ixd",
      "execution_count": 6,
      "outputs": []
    },
    {
      "cell_type": "code",
      "source": [
        "# Функция создаёт эмбединг текста\n",
        "def get_text_embedding(text):\n",
        "    result = []\n",
        "    for word in word_tokenize(text.lower()):\n",
        "        if word in model_tweets.wv:\n",
        "            result.append(model_tweets.wv[word])\n",
        "\n",
        "    if len(result):\n",
        "        result = np.sum(result, axis=0)\n",
        "    else:\n",
        "        result = np.zeros(300)\n",
        "    return result"
      ],
      "metadata": {
        "id": "M0IgjM-R_lFK"
      },
      "id": "M0IgjM-R_lFK",
      "execution_count": 7,
      "outputs": []
    },
    {
      "cell_type": "code",
      "source": [
        "# Делаем вектора признаков\n",
        "features = [get_text_embedding(text) for text in tqdm(df.tweet)]"
      ],
      "metadata": {
        "colab": {
          "base_uri": "https://localhost:8080/"
        },
        "id": "9a3FJBP9_qP9",
        "outputId": "7693ee05-44eb-445c-fbea-27924d298b9d"
      },
      "id": "9a3FJBP9_qP9",
      "execution_count": 8,
      "outputs": [
        {
          "output_type": "stream",
          "name": "stderr",
          "text": [
            "100%|██████████| 6420/6420 [00:08<00:00, 718.27it/s]\n"
          ]
        }
      ]
    },
    {
      "cell_type": "code",
      "source": [
        "# Разделяем данные на train и test \n",
        "X_train, X_test, y_train, y_test = train_test_split(features, df.label, test_size=0.33)\n"
      ],
      "metadata": {
        "id": "yDv3dI8g_slw"
      },
      "id": "yDv3dI8g_slw",
      "execution_count": 9,
      "outputs": []
    },
    {
      "cell_type": "markdown",
      "source": [
        "### Способ 1 - логистическая регрессия"
      ],
      "metadata": {
        "id": "ERwDRnxvBsmO"
      },
      "id": "ERwDRnxvBsmO"
    },
    {
      "cell_type": "code",
      "source": [
        "# Обучаем модель\n",
        "model_1 = LogisticRegression(solver='liblinear', random_state=0)\n",
        "model_1.fit(X_train, y_train)"
      ],
      "metadata": {
        "colab": {
          "base_uri": "https://localhost:8080/"
        },
        "id": "YgKsyE1-_zNn",
        "outputId": "74aff82e-a347-49e4-dd39-3e9be3ed79fb"
      },
      "id": "YgKsyE1-_zNn",
      "execution_count": 10,
      "outputs": [
        {
          "output_type": "execute_result",
          "data": {
            "text/plain": [
              "LogisticRegression(random_state=0, solver='liblinear')"
            ]
          },
          "metadata": {},
          "execution_count": 10
        }
      ]
    },
    {
      "cell_type": "code",
      "source": [
        "# Делаем предсказание\n",
        "predicted_1 = model_1.predict(X_test)"
      ],
      "metadata": {
        "id": "fGxEyEgH_2iE"
      },
      "id": "fGxEyEgH_2iE",
      "execution_count": 11,
      "outputs": []
    },
    {
      "cell_type": "code",
      "source": [
        "# Смотрим точность модели\n",
        "f1_score(y_test, predicted_1, average=None)"
      ],
      "metadata": {
        "colab": {
          "base_uri": "https://localhost:8080/"
        },
        "id": "DJEPGlM-CFKT",
        "outputId": "d26020c5-42b6-49e5-c720-9a855666df99"
      },
      "id": "DJEPGlM-CFKT",
      "execution_count": 12,
      "outputs": [
        {
          "output_type": "execute_result",
          "data": {
            "text/plain": [
              "array([0.91891892, 0.92243767])"
            ]
          },
          "metadata": {},
          "execution_count": 12
        }
      ]
    },
    {
      "cell_type": "markdown",
      "source": [
        "### Способ 2 - метод опорных векторов"
      ],
      "metadata": {
        "id": "ZUbs4u97Eg8w"
      },
      "id": "ZUbs4u97Eg8w"
    },
    {
      "cell_type": "code",
      "source": [
        "# Обучаем модель\n",
        "model_2 = svm.SVC(kernel='linear', gamma='scale', random_state=0)\n",
        "model_2.fit(X_train, y_train)"
      ],
      "metadata": {
        "colab": {
          "base_uri": "https://localhost:8080/"
        },
        "id": "a1OSDRp6Cxt0",
        "outputId": "908c6513-800f-4acd-a1ad-38d584ecfa84"
      },
      "id": "a1OSDRp6Cxt0",
      "execution_count": 13,
      "outputs": [
        {
          "output_type": "execute_result",
          "data": {
            "text/plain": [
              "SVC(kernel='linear', random_state=0)"
            ]
          },
          "metadata": {},
          "execution_count": 13
        }
      ]
    },
    {
      "cell_type": "code",
      "source": [
        "# Делаем предсказание\n",
        "predicted_2 = model_2.predict(X_test)"
      ],
      "metadata": {
        "id": "5gfUnZ4-E8oP"
      },
      "id": "5gfUnZ4-E8oP",
      "execution_count": 14,
      "outputs": []
    },
    {
      "cell_type": "code",
      "source": [
        "# Смотрим точность модели\n",
        "f1_score(y_test, predicted_2, average=None)"
      ],
      "metadata": {
        "colab": {
          "base_uri": "https://localhost:8080/"
        },
        "id": "vEzJi158E-tI",
        "outputId": "2f8eff16-175e-4a32-b556-49ca42ba59ea"
      },
      "id": "vEzJi158E-tI",
      "execution_count": 15,
      "outputs": [
        {
          "output_type": "execute_result",
          "data": {
            "text/plain": [
              "array([0.91800097, 0.92237023])"
            ]
          },
          "metadata": {},
          "execution_count": 15
        }
      ]
    },
    {
      "cell_type": "markdown",
      "source": [
        "### Способ 3 - k ближайших соседей "
      ],
      "metadata": {
        "id": "uu3G3MqxG2Hl"
      },
      "id": "uu3G3MqxG2Hl"
    },
    {
      "cell_type": "code",
      "source": [
        "# Обучаем модель\n",
        "model_3 = KNeighborsClassifier(n_neighbors=3)\n",
        "model_3.fit(X_train, y_train) "
      ],
      "metadata": {
        "colab": {
          "base_uri": "https://localhost:8080/"
        },
        "id": "317qwCKIHA-A",
        "outputId": "413d00cd-fe64-477e-d769-e340e7c42cf5"
      },
      "id": "317qwCKIHA-A",
      "execution_count": 16,
      "outputs": [
        {
          "output_type": "execute_result",
          "data": {
            "text/plain": [
              "KNeighborsClassifier(n_neighbors=3)"
            ]
          },
          "metadata": {},
          "execution_count": 16
        }
      ]
    },
    {
      "cell_type": "code",
      "source": [
        "# Делаем предсказание\n",
        "predicted_3 = model_3.predict(X_test)"
      ],
      "metadata": {
        "id": "aItIr4HGHHm8"
      },
      "id": "aItIr4HGHHm8",
      "execution_count": 17,
      "outputs": []
    },
    {
      "cell_type": "code",
      "source": [
        "# Смотрим точность модели\n",
        "f1_score(y_test, predicted_3, average=None)"
      ],
      "metadata": {
        "colab": {
          "base_uri": "https://localhost:8080/"
        },
        "id": "nXd6fH8SHHpV",
        "outputId": "1f6b2201-3681-4151-c040-1e5d7bc4c0a5"
      },
      "id": "nXd6fH8SHHpV",
      "execution_count": 18,
      "outputs": [
        {
          "output_type": "execute_result",
          "data": {
            "text/plain": [
              "array([0.91936263, 0.92293493])"
            ]
          },
          "metadata": {},
          "execution_count": 18
        }
      ]
    }
  ],
  "metadata": {
    "kernelspec": {
      "display_name": "Python 3 (ipykernel)",
      "language": "python",
      "name": "python3"
    },
    "language_info": {
      "codemirror_mode": {
        "name": "ipython",
        "version": 3
      },
      "file_extension": ".py",
      "mimetype": "text/x-python",
      "name": "python",
      "nbconvert_exporter": "python",
      "pygments_lexer": "ipython3",
      "version": "3.9.7"
    },
    "colab": {
      "name": "Homework_2.ipynb",
      "provenance": [],
      "collapsed_sections": []
    }
  },
  "nbformat": 4,
  "nbformat_minor": 5
}